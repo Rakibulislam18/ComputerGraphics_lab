{
 "cells": [
  {
   "cell_type": "code",
   "execution_count": 1,
   "metadata": {},
   "outputs": [],
   "source": [
    "import matplotlib.pyplot as plt"
   ]
  },
  {
   "cell_type": "code",
   "execution_count": 2,
   "metadata": {},
   "outputs": [
    {
     "data": {
      "image/png": "[encoded data removed]",
      "text/plain": [
       "<Figure size 640x480 with 1 Axes>"
      ]
     },
     "metadata": {},
     "output_type": "display_data"
    }
   ],
   "source": [
    "def draw_circle(x_center, y_center, radius):\n",
    "    # Initialize variables\n",
    "    x = radius\n",
    "    y = 0\n",
    "    p = 1 - radius  # Initial decision parameter\n",
    "\n",
    "    # Create lists to store the coordinates of the circle\n",
    "    circle_x = []\n",
    "    circle_y = []\n",
    "\n",
    "    # Plot the initial point in each quadrant\n",
    "    plot_points(x_center, y_center, x, y, circle_x, circle_y)\n",
    "\n",
    "    # Midpoint Circle Drawing Algorithm\n",
    "    while x > y:\n",
    "        y += 1\n",
    "\n",
    "        # Mid-point is inside or on the perimeter of the circle\n",
    "        if p <= 0:\n",
    "            p = p + 2 * y + 1\n",
    "        else:  # Mid-point is outside the perimeter of the circle\n",
    "            x -= 1\n",
    "            p = p + 2 * (y - x) + 1\n",
    "\n",
    "        # All the perimeter points have already been printed\n",
    "        if x < y:\n",
    "            break\n",
    "\n",
    "        # Plot the generated point in each quadrant\n",
    "        plot_points(x_center, y_center, x, y, circle_x, circle_y)\n",
    "\n",
    "        # If the generated point is on the line x = y then the perimeter points have already been printed\n",
    "        if x != y:\n",
    "            plot_points(x_center, y_center, y, x, circle_x, circle_y)\n",
    "\n",
    "    return circle_x, circle_y\n",
    "\n",
    "def plot_points(x_center, y_center, x, y, circle_x, circle_y):\n",
    "    # Plot points in each quadrant\n",
    "    circle_x.append(x_center + x)\n",
    "    circle_y.append(y_center + y)\n",
    "    circle_x.append(x_center - x)\n",
    "    circle_y.append(y_center + y)\n",
    "    circle_x.append(x_center - x)\n",
    "    circle_y.append(y_center - y)\n",
    "    circle_x.append(x_center + x)\n",
    "    circle_y.append(y_center - y)\n",
    "    \n",
    "    circle_x.append(x_center + y)\n",
    "    circle_y.append(y_center + x)\n",
    "    circle_x.append(x_center - y)\n",
    "    circle_y.append(y_center + x)\n",
    "    circle_x.append(x_center - y)\n",
    "    circle_y.append(y_center - x)\n",
    "    circle_x.append(x_center + y)\n",
    "    circle_y.append(y_center - x)\n",
    "\n",
    "# Example usage\n",
    "x_center, y_center = 2, 3\n",
    "radius = 5\n",
    "\n",
    "circle_x, circle_y = draw_circle(x_center, y_center, radius)\n",
    "\n",
    "# Plot the circle\n",
    "plt.scatter(circle_x, circle_y, color='black')\n",
    "plt.title('Midpoint Circle Drawing Algorithm')\n",
    "plt.xlabel('X-axis')\n",
    "plt.ylabel('Y-axis')\n",
    "plt.gca().set_aspect('equal', adjustable='box')\n",
    "plt.show()"
   ]
  },
  {
   "cell_type": "code",
   "execution_count": null,
   "metadata": {},
   "outputs": [],
   "source": []
  }
 ],
 "metadata": {
  "kernelspec": {
   "display_name": "Python 3",
   "language": "python",
   "name": "python3"
  },
  "language_info": {
   "codemirror_mode": {
    "name": "ipython",
    "version": 3
   },
   "file_extension": ".py",
   "mimetype": "text/x-python",
   "name": "python",
   "nbconvert_exporter": "python",
   "pygments_lexer": "ipython3",
   "version": "3.10.11"
  }
 },
 "nbformat": 4,
 "nbformat_minor": 2
}
